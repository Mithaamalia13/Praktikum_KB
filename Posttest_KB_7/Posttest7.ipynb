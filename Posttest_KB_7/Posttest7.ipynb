{
 "cells": [
  {
   "cell_type": "markdown",
   "id": "cbecf7a8-34e4-49f7-8d00-c65b82dfd1b6",
   "metadata": {},
   "source": [
    "# **IMPORT LIBRARY**"
   ]
  },
  {
   "cell_type": "code",
   "execution_count": 1,
   "id": "4855506d-9507-427c-b801-cee5c0241355",
   "metadata": {},
   "outputs": [],
   "source": [
    "import tensorflow as tf"
   ]
  },
  {
   "cell_type": "markdown",
   "id": "f57d2a2a-2681-48eb-9eae-fda623438d93",
   "metadata": {},
   "source": [
    "# **tf.random() dengan shape(5,5)**"
   ]
  },
  {
   "cell_type": "code",
   "execution_count": 2,
   "id": "a24686b8-5b72-4c0c-9605-9e6b1c3b2bdf",
   "metadata": {},
   "outputs": [
    {
     "data": {
      "text/plain": [
       "array([[-0.8113182 ,  1.4845988 ,  0.06532937, -2.4427042 ,  0.0992484 ],\n",
       "       [ 0.5912243 ,  0.59282297, -2.1229296 , -0.72289723, -0.05627038],\n",
       "       [ 0.6435448 , -0.26432407,  1.8566332 ,  0.5678417 , -0.3828359 ],\n",
       "       [-1.4853433 ,  1.2617711 , -0.02530608, -0.2646297 ,  1.5328138 ],\n",
       "       [-1.7429771 , -0.43789294, -0.56601   ,  0.32066926,  1.132831  ]],\n",
       "      dtype=float32)"
      ]
     },
     "execution_count": 2,
     "metadata": {},
     "output_type": "execute_result"
    }
   ],
   "source": [
    "#penggunaan tf.random.normal()\n",
    "random_tensor = tf.random.normal([5,5],mean=0,stddev=1,seed=1)\n",
    "\n",
    "#Pengecekan nilai constant\n",
    "random_tensor.numpy()"
   ]
  },
  {
   "cell_type": "markdown",
   "id": "4ce74ac5-2566-412e-95f3-6b7010ba9982",
   "metadata": {},
   "source": [
    "# **List dengan shape(5,5)**"
   ]
  },
  {
   "cell_type": "code",
   "execution_count": 3,
   "id": "0ae42d75-dede-45f1-af37-551b69323bd5",
   "metadata": {},
   "outputs": [
    {
     "data": {
      "text/plain": [
       "array([[ 2.,  3.,  5.,  7., 11.],\n",
       "       [13., 17., 19., 23., 29.],\n",
       "       [31., 37., 41., 43., 47.],\n",
       "       [53., 59., 61., 67., 71.],\n",
       "       [73., 79., 83., 89., 97.]], dtype=float32)"
      ]
     },
     "execution_count": 3,
     "metadata": {},
     "output_type": "execute_result"
    }
   ],
   "source": [
    "#Pembuatan list untuk dimasukkan kedalam Tensor\n",
    "prima = [[2,3,5,7,11],[13,17,19,23,29],[31,37,41,43,47],[53,59,61,67,71],[73,79,83,89,97]]\n",
    "\n",
    "#Penggunaan tf.convert_to_tensor\n",
    "prime_tensor = tf.convert_to_tensor(prima, dtype=tf.float32)\n",
    "\n",
    "#Pengecekan nilai constant\n",
    "prime_tensor.numpy()"
   ]
  },
  {
   "cell_type": "markdown",
   "id": "62c5994d-592b-4dae-afb5-96e205f96390",
   "metadata": {},
   "source": [
    "# **Menampilkan Dimensi random_tensor**"
   ]
  },
  {
   "cell_type": "code",
   "execution_count": 4,
   "id": "f79d0325-6cd0-4eec-8531-a7f080405579",
   "metadata": {},
   "outputs": [
    {
     "data": {
      "text/plain": [
       "TensorShape([5, 5])"
      ]
     },
     "execution_count": 4,
     "metadata": {},
     "output_type": "execute_result"
    }
   ],
   "source": [
    "random_tensor.get_shape()"
   ]
  },
  {
   "cell_type": "code",
   "execution_count": 5,
   "id": "c9c45132-4f31-43d9-8637-721f6205efe1",
   "metadata": {},
   "outputs": [
    {
     "data": {
      "text/plain": [
       "TensorShape([5, 5])"
      ]
     },
     "execution_count": 5,
     "metadata": {},
     "output_type": "execute_result"
    }
   ],
   "source": [
    "random_tensor.shape"
   ]
  },
  {
   "cell_type": "markdown",
   "id": "e5cb4fa9-802f-469f-8b0f-4c11faef25ca",
   "metadata": {},
   "source": [
    "# **Menampilkan Dimensi prime_tensor**"
   ]
  },
  {
   "cell_type": "code",
   "execution_count": 6,
   "id": "b34310b5-039e-4cfa-8a91-118e6efb9d99",
   "metadata": {},
   "outputs": [
    {
     "data": {
      "text/plain": [
       "array([5, 5])"
      ]
     },
     "execution_count": 6,
     "metadata": {},
     "output_type": "execute_result"
    }
   ],
   "source": [
    "tf.shape(prime_tensor).numpy()"
   ]
  },
  {
   "cell_type": "code",
   "execution_count": 7,
   "id": "08b092c1-bfc7-4156-8372-59e13de6bb13",
   "metadata": {},
   "outputs": [
    {
     "data": {
      "text/plain": [
       "TensorShape([5, 5])"
      ]
     },
     "execution_count": 7,
     "metadata": {},
     "output_type": "execute_result"
    }
   ],
   "source": [
    "prime_tensor.shape"
   ]
  },
  {
   "cell_type": "markdown",
   "id": "6d5c7af7-1476-417d-9a1d-99e307249675",
   "metadata": {},
   "source": [
    "# **Perhitungan Aritmetika**"
   ]
  },
  {
   "cell_type": "markdown",
   "id": "2cf45585-4a77-497c-abbf-717da27e4b71",
   "metadata": {},
   "source": [
    "#### **TAMBAH**"
   ]
  },
  {
   "cell_type": "code",
   "execution_count": 8,
   "id": "222f3e69-25c6-47ff-9b79-3c42659b97e1",
   "metadata": {},
   "outputs": [
    {
     "name": "stdout",
     "output_type": "stream",
     "text": [
      "tf.Tensor(\n",
      "[[ 1.1886818  4.4845986  5.0653296  4.557296  11.099248 ]\n",
      " [13.591225  17.592823  16.877071  22.277103  28.94373  ]\n",
      " [31.643545  36.735676  42.856632  43.56784   46.617165 ]\n",
      " [51.514656  60.261772  60.974693  66.73537   72.532814 ]\n",
      " [71.25702   78.5621    82.43399   89.32067   98.13283  ]], shape=(5, 5), dtype=float32)\n"
     ]
    }
   ],
   "source": [
    "print(tf.add(random_tensor, prime_tensor))"
   ]
  },
  {
   "cell_type": "markdown",
   "id": "0cce809c-f73c-433b-bd7e-e86ffa4e0d65",
   "metadata": {},
   "source": [
    "#### **KURANG**"
   ]
  },
  {
   "cell_type": "code",
   "execution_count": 9,
   "id": "c80ce0a1-68e9-4894-b714-94d9ff228636",
   "metadata": {},
   "outputs": [
    {
     "name": "stdout",
     "output_type": "stream",
     "text": [
      "tf.Tensor(\n",
      "[[ -2.8113182  -1.5154012  -4.9346704  -9.442704  -10.900752 ]\n",
      " [-12.408775  -16.407177  -21.122929  -23.722897  -29.05627  ]\n",
      " [-30.356455  -37.264324  -39.143368  -42.43216   -47.382835 ]\n",
      " [-54.485344  -57.738228  -61.025307  -67.26463   -69.467186 ]\n",
      " [-74.74298   -79.4379    -83.56601   -88.67933   -95.86717  ]], shape=(5, 5), dtype=float32)\n"
     ]
    }
   ],
   "source": [
    "print(tf.subtract(random_tensor, prime_tensor))"
   ]
  },
  {
   "cell_type": "markdown",
   "id": "42451ec9-fdf1-4042-b57f-0e5f3e7b6016",
   "metadata": {},
   "source": [
    "#### **PERKALIAN**"
   ]
  },
  {
   "cell_type": "code",
   "execution_count": 10,
   "id": "7f57622a-95fe-4a10-a6c1-c74d33f44728",
   "metadata": {},
   "outputs": [
    {
     "name": "stdout",
     "output_type": "stream",
     "text": [
      "tf.Tensor(\n",
      "[[  -1.6226364     4.4537964     0.32664686  -17.09893       1.0917324 ]\n",
      " [   7.685916     10.077991    -40.335663    -16.626637     -1.6318411 ]\n",
      " [  19.949888     -9.77999      76.12196      24.417194    -17.993286  ]\n",
      " [ -78.7232       74.444496     -1.5436709   -17.73019     108.82978   ]\n",
      " [-127.237335    -34.593544    -46.97883      28.539564    109.884605  ]], shape=(5, 5), dtype=float32)\n"
     ]
    }
   ],
   "source": [
    "print(tf.multiply(random_tensor, prime_tensor))"
   ]
  },
  {
   "cell_type": "markdown",
   "id": "3e529282-3e93-4377-b548-60572703e709",
   "metadata": {},
   "source": [
    "#### **PEMBAGIAN**"
   ]
  },
  {
   "cell_type": "code",
   "execution_count": 11,
   "id": "388a9552-8bfd-4157-925c-5f717ecde553",
   "metadata": {},
   "outputs": [
    {
     "name": "stdout",
     "output_type": "stream",
     "text": [
      "tf.Tensor(\n",
      "[[-4.0565911e-01  4.9486625e-01  1.3065875e-02 -3.4895775e-01\n",
      "   9.0225823e-03]\n",
      " [ 4.5478795e-02  3.4871940e-02 -1.1173314e-01 -3.1430315e-02\n",
      "  -1.9403580e-03]\n",
      " [ 2.0759510e-02 -7.1438937e-03  4.5283735e-02  1.3205621e-02\n",
      "  -8.1454450e-03]\n",
      " [-2.8025346e-02  2.1385951e-02 -4.1485377e-04 -3.9496967e-03\n",
      "   2.1588927e-02]\n",
      " [-2.3876399e-02 -5.5429488e-03 -6.8193977e-03  3.6030253e-03\n",
      "   1.1678670e-02]], shape=(5, 5), dtype=float32)\n"
     ]
    }
   ],
   "source": [
    "print(tf.divide(random_tensor, prime_tensor))"
   ]
  },
  {
   "cell_type": "markdown",
   "id": "f952c396-3dc2-4312-9636-9cf8b05a0596",
   "metadata": {},
   "source": [
    "#### **PANGKAT**"
   ]
  },
  {
   "cell_type": "code",
   "execution_count": 12,
   "id": "7b3d6406-f3f0-44a5-a437-c9b32eec1054",
   "metadata": {},
   "outputs": [
    {
     "name": "stdout",
     "output_type": "stream",
     "text": [
      "tf.Tensor(\n",
      "[[ 6.5823728e-01  3.2721055e+00  1.1899876e-06 -5.1891492e+02\n",
      "   9.2036214e-12]\n",
      " [ 1.0783996e-03  1.3795117e-04 -1.6284565e+06 -5.7380047e-04\n",
      "  -5.7294839e-37]\n",
      " [ 1.1639711e-06 -4.1596646e-22  1.0417667e+11  2.7025481e-11\n",
      "  -2.5211261e-20]\n",
      " [-1.2788605e+09  9.0751462e+05 -0.0000000e+00 -0.0000000e+00\n",
      "   1.4782479e+13]\n",
      " [-4.1142766e+17 -4.6565877e-29 -3.0507073e-21  0.0000000e+00\n",
      "   1.7948009e+05]], shape=(5, 5), dtype=float32)\n"
     ]
    }
   ],
   "source": [
    "print(tf.pow(random_tensor, prime_tensor))"
   ]
  },
  {
   "cell_type": "markdown",
   "id": "80a802c0-a8b4-4576-9f78-b0b8b3d3edba",
   "metadata": {},
   "source": [
    "#### **LOGARITMA**"
   ]
  },
  {
   "cell_type": "code",
   "execution_count": 13,
   "id": "79ff1ba8-2dd6-40ca-932a-1cd89fb9c8c0",
   "metadata": {},
   "outputs": [
    {
     "name": "stdout",
     "output_type": "stream",
     "text": [
      "tf.Tensor(\n",
      "[[        nan  0.39514455 -2.7283134          nan -2.3101294 ]\n",
      " [-0.5255598  -0.52285945         nan         nan         nan]\n",
      " [-0.44076362         nan  0.61876476 -0.5659126          nan]\n",
      " [        nan  0.23251635         nan         nan  0.42710513]\n",
      " [        nan         nan         nan -1.1373451   0.12471979]], shape=(5, 5), dtype=float32)\n"
     ]
    }
   ],
   "source": [
    "print(tf.math.log(random_tensor, prime_tensor))"
   ]
  },
  {
   "cell_type": "markdown",
   "id": "89d6854b-f29f-4bff-a37e-1eceb5eb99d0",
   "metadata": {},
   "source": [
    "# **Nilai Maximum & Minimum**"
   ]
  },
  {
   "cell_type": "markdown",
   "id": "ab12f85a-563f-4c8a-8f9d-30c9559ec08f",
   "metadata": {},
   "source": [
    "#### **Nilai Maximum**"
   ]
  },
  {
   "cell_type": "code",
   "execution_count": 14,
   "id": "0815697b-0af6-4e46-9e51-bc03fea47027",
   "metadata": {},
   "outputs": [
    {
     "name": "stdout",
     "output_type": "stream",
     "text": [
      "Nilai bedasarkan kolom :  [2 0 2 2 3]\n"
     ]
    }
   ],
   "source": [
    "print(\"Nilai bedasarkan kolom : \",tf.argmax(random_tensor, axis=0).numpy())"
   ]
  },
  {
   "cell_type": "code",
   "execution_count": 15,
   "id": "4a2d74a2-763d-4fb0-9779-0dab09270e38",
   "metadata": {},
   "outputs": [
    {
     "name": "stdout",
     "output_type": "stream",
     "text": [
      "Nilai bedasarkan baris :  [1 1 2 4 4]\n"
     ]
    }
   ],
   "source": [
    "print(\"Nilai bedasarkan baris : \",tf.argmax(random_tensor, axis=1).numpy())"
   ]
  },
  {
   "cell_type": "code",
   "execution_count": 16,
   "id": "c0029768-b06e-4731-829f-06b5958fbafa",
   "metadata": {},
   "outputs": [
    {
     "name": "stdout",
     "output_type": "stream",
     "text": [
      "tf.Tensor(\n",
      "[[1 4 2 0 3]\n",
      " [1 0 4 3 2]\n",
      " [2 0 3 1 4]\n",
      " [4 1 2 3 0]\n",
      " [4 3 1 2 0]], shape=(5, 5), dtype=int32)\n"
     ]
    }
   ],
   "source": [
    "print(tf.argsort(random_tensor, direction='DESCENDING')) #INDEKS YANG DI URUTKAN"
   ]
  },
  {
   "cell_type": "code",
   "execution_count": 17,
   "id": "8853d3f5-9001-45b3-8a04-8b7c42407137",
   "metadata": {},
   "outputs": [
    {
     "name": "stdout",
     "output_type": "stream",
     "text": [
      "tf.Tensor(\n",
      "[[ 1.4845988   0.0992484   0.06532937 -0.8113182  -2.4427042 ]\n",
      " [ 0.59282297  0.5912243  -0.05627038 -0.72289723 -2.1229296 ]\n",
      " [ 1.8566332   0.6435448   0.5678417  -0.26432407 -0.3828359 ]\n",
      " [ 1.5328138   1.2617711  -0.02530608 -0.2646297  -1.4853433 ]\n",
      " [ 1.132831    0.32066926 -0.43789294 -0.56601    -1.7429771 ]], shape=(5, 5), dtype=float32)\n"
     ]
    }
   ],
   "source": [
    "print(tf.sort(random_tensor, direction='DESCENDING')) #TENSOR YANG DI URUTKAN"
   ]
  },
  {
   "cell_type": "markdown",
   "id": "5e0a25da-6dd0-4ebd-9959-671c660946da",
   "metadata": {},
   "source": [
    "#### **Nilai Minimum**"
   ]
  },
  {
   "cell_type": "code",
   "execution_count": 18,
   "id": "953f3090-1250-41b2-92c5-3b3dd5b45d3d",
   "metadata": {},
   "outputs": [
    {
     "name": "stdout",
     "output_type": "stream",
     "text": [
      "Nilai bedasarkan kolom :  [4 4 1 0 2]\n"
     ]
    }
   ],
   "source": [
    "print(\"Nilai bedasarkan kolom : \",tf.argmin(random_tensor, axis=0).numpy())"
   ]
  },
  {
   "cell_type": "code",
   "execution_count": 19,
   "id": "054d6c34-a7d4-4450-9bf7-9f287eac511a",
   "metadata": {},
   "outputs": [
    {
     "name": "stdout",
     "output_type": "stream",
     "text": [
      "Nilai bedasarkan baris :  [3 2 4 0 0]\n"
     ]
    }
   ],
   "source": [
    "print(\"Nilai bedasarkan baris : \",tf.argmin(random_tensor, axis=1).numpy())"
   ]
  },
  {
   "cell_type": "code",
   "execution_count": 20,
   "id": "2bec2697-cba1-466d-8ea6-a4c5b6f5f4a0",
   "metadata": {},
   "outputs": [
    {
     "name": "stdout",
     "output_type": "stream",
     "text": [
      "tf.Tensor(\n",
      "[[3 0 2 4 1]\n",
      " [2 3 4 0 1]\n",
      " [4 1 3 0 2]\n",
      " [0 3 2 1 4]\n",
      " [0 2 1 3 4]], shape=(5, 5), dtype=int32)\n"
     ]
    }
   ],
   "source": [
    "print(tf.argsort(random_tensor, direction='ASCENDING')) #INDEKS YANG DI URUTKAN"
   ]
  },
  {
   "cell_type": "code",
   "execution_count": 21,
   "id": "6a3765dc-cfc4-4ecf-bb5f-ba82c5d90a5a",
   "metadata": {},
   "outputs": [
    {
     "name": "stdout",
     "output_type": "stream",
     "text": [
      "tf.Tensor(\n",
      "[[-2.4427042  -0.8113182   0.06532937  0.0992484   1.4845988 ]\n",
      " [-2.1229296  -0.72289723 -0.05627038  0.5912243   0.59282297]\n",
      " [-0.3828359  -0.26432407  0.5678417   0.6435448   1.8566332 ]\n",
      " [-1.4853433  -0.2646297  -0.02530608  1.2617711   1.5328138 ]\n",
      " [-1.7429771  -0.56601    -0.43789294  0.32066926  1.132831  ]], shape=(5, 5), dtype=float32)\n"
     ]
    }
   ],
   "source": [
    "print(tf.sort(random_tensor, direction='ASCENDING')) #TENSOR YANG DI URUTKAN"
   ]
  },
  {
   "cell_type": "markdown",
   "id": "9fae18c0-84ce-40ff-8434-67f1918fbf2e",
   "metadata": {},
   "source": [
    "# **CONCATENATION**"
   ]
  },
  {
   "cell_type": "code",
   "execution_count": 22,
   "id": "6dfe36c7-f5cb-4b20-bf27-eb25a219aa90",
   "metadata": {},
   "outputs": [
    {
     "name": "stdout",
     "output_type": "stream",
     "text": [
      "Size original : (5, 5) (5, 5)\n"
     ]
    }
   ],
   "source": [
    "#sebelum\n",
    "print(f\"Size original : {random_tensor.shape} {prime_tensor.shape}\")"
   ]
  },
  {
   "cell_type": "code",
   "execution_count": 23,
   "id": "3a3dba0b-db7a-4ffb-897c-8e2fa7a8db1b",
   "metadata": {},
   "outputs": [
    {
     "name": "stdout",
     "output_type": "stream",
     "text": [
      "Size data yang sudah di concat : (10, 5)\n"
     ]
    }
   ],
   "source": [
    "#cara gabungkan kedua sample\n",
    "concat_sample = tf.concat([random_tensor, prime_tensor], axis=0)\n",
    "print(f\"Size data yang sudah di concat : {concat_sample.shape}\")"
   ]
  },
  {
   "cell_type": "markdown",
   "id": "09cf234d-cdc1-4e44-a56b-408132dfc4d2",
   "metadata": {},
   "source": [
    "# **SORTING**"
   ]
  },
  {
   "cell_type": "code",
   "execution_count": 24,
   "id": "e42560cf-808c-452f-859d-98df4f79e4fd",
   "metadata": {},
   "outputs": [
    {
     "name": "stdout",
     "output_type": "stream",
     "text": [
      "tf.Tensor(\n",
      "[[ 1.4845988   0.0992484   0.06532937 -0.8113182  -2.4427042 ]\n",
      " [ 0.59282297  0.5912243  -0.05627038 -0.72289723 -2.1229296 ]\n",
      " [ 1.8566332   0.6435448   0.5678417  -0.26432407 -0.3828359 ]\n",
      " [ 1.5328138   1.2617711  -0.02530608 -0.2646297  -1.4853433 ]\n",
      " [ 1.132831    0.32066926 -0.43789294 -0.56601    -1.7429771 ]], shape=(5, 5), dtype=float32)\n"
     ]
    }
   ],
   "source": [
    "print(tf.sort(random_tensor, direction=\"DESCENDING\"))"
   ]
  },
  {
   "cell_type": "code",
   "execution_count": 25,
   "id": "208ee5fb-3633-4263-bf82-2c3d9313bb11",
   "metadata": {},
   "outputs": [
    {
     "name": "stdout",
     "output_type": "stream",
     "text": [
      "tf.Tensor(\n",
      "[[11.  7.  5.  3.  2.]\n",
      " [29. 23. 19. 17. 13.]\n",
      " [47. 43. 41. 37. 31.]\n",
      " [71. 67. 61. 59. 53.]\n",
      " [97. 89. 83. 79. 73.]], shape=(5, 5), dtype=float32)\n"
     ]
    }
   ],
   "source": [
    "print(tf.sort(prime_tensor, direction=\"DESCENDING\"))"
   ]
  }
 ],
 "metadata": {
  "kernelspec": {
   "display_name": "Python 3 (ipykernel)",
   "language": "python",
   "name": "python3"
  },
  "language_info": {
   "codemirror_mode": {
    "name": "ipython",
    "version": 3
   },
   "file_extension": ".py",
   "mimetype": "text/x-python",
   "name": "python",
   "nbconvert_exporter": "python",
   "pygments_lexer": "ipython3",
   "version": "3.10.7"
  }
 },
 "nbformat": 4,
 "nbformat_minor": 5
}
