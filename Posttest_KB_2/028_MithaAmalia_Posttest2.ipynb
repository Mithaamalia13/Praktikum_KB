{
 "cells": [
  {
   "cell_type": "markdown",
   "id": "81977251-d9a9-4200-8133-066abf17023f",
   "metadata": {},
   "source": [
    "# MITHA AMALIA"
   ]
  },
  {
   "cell_type": "markdown",
   "id": "dbc7e20c-1dd8-4c72-a928-86883071c735",
   "metadata": {},
   "source": [
    "## 2009106028"
   ]
  },
  {
   "cell_type": "markdown",
   "id": "1862cafd-c637-4b84-9e74-5dd95b82c526",
   "metadata": {},
   "source": [
    "### Kecerdasan Buatan A2 2020"
   ]
  },
  {
   "cell_type": "markdown",
   "id": "efe8c7b6-b3f6-4d61-9f4a-81a672dea1c5",
   "metadata": {},
   "source": [
    "# Import"
   ]
  },
  {
   "cell_type": "code",
   "execution_count": 57,
   "id": "ba890a7c-b5d0-4ab4-8897-5d9e7a6a95c2",
   "metadata": {},
   "outputs": [],
   "source": [
    "import pandas as pd\n",
    "from tabulate import tabulate"
   ]
  },
  {
   "cell_type": "markdown",
   "id": "31415765-b705-429a-a710-57d8e1fc0874",
   "metadata": {
    "tags": []
   },
   "source": [
    "# Read Data"
   ]
  },
  {
   "cell_type": "code",
   "execution_count": 58,
   "id": "d8b668ad-1d70-4cc2-9fdd-d33c8f239dc6",
   "metadata": {},
   "outputs": [
    {
     "data": {
      "text/html": [
       "<div>\n",
       "<style scoped>\n",
       "    .dataframe tbody tr th:only-of-type {\n",
       "        vertical-align: middle;\n",
       "    }\n",
       "\n",
       "    .dataframe tbody tr th {\n",
       "        vertical-align: top;\n",
       "    }\n",
       "\n",
       "    .dataframe thead th {\n",
       "        text-align: right;\n",
       "    }\n",
       "</style>\n",
       "<table border=\"1\" class=\"dataframe\">\n",
       "  <thead>\n",
       "    <tr style=\"text-align: right;\">\n",
       "      <th></th>\n",
       "      <th>age</th>\n",
       "      <th>workclass</th>\n",
       "      <th>fnlwgt</th>\n",
       "      <th>education</th>\n",
       "      <th>education.num</th>\n",
       "      <th>maritalStatus</th>\n",
       "      <th>occupation</th>\n",
       "      <th>relationship</th>\n",
       "      <th>race</th>\n",
       "      <th>sex</th>\n",
       "      <th>capitalGain</th>\n",
       "      <th>capitalLoss</th>\n",
       "      <th>hoursPerWeek</th>\n",
       "      <th>nativeCountry</th>\n",
       "      <th>income</th>\n",
       "    </tr>\n",
       "  </thead>\n",
       "  <tbody>\n",
       "    <tr>\n",
       "      <th>0</th>\n",
       "      <td>82</td>\n",
       "      <td>Private</td>\n",
       "      <td>132870</td>\n",
       "      <td>HS-grad</td>\n",
       "      <td>9</td>\n",
       "      <td>Widowed</td>\n",
       "      <td>Exec-managerial</td>\n",
       "      <td>Not-in-family</td>\n",
       "      <td>White</td>\n",
       "      <td>Female</td>\n",
       "      <td>0</td>\n",
       "      <td>4356</td>\n",
       "      <td>18</td>\n",
       "      <td>United-States</td>\n",
       "      <td>&lt;=50K</td>\n",
       "    </tr>\n",
       "    <tr>\n",
       "      <th>1</th>\n",
       "      <td>54</td>\n",
       "      <td>Private</td>\n",
       "      <td>140359</td>\n",
       "      <td>7th-8th</td>\n",
       "      <td>4</td>\n",
       "      <td>Divorced</td>\n",
       "      <td>Machine-op-inspct</td>\n",
       "      <td>Unmarried</td>\n",
       "      <td>White</td>\n",
       "      <td>Female</td>\n",
       "      <td>0</td>\n",
       "      <td>3900</td>\n",
       "      <td>40</td>\n",
       "      <td>United-States</td>\n",
       "      <td>&lt;=50K</td>\n",
       "    </tr>\n",
       "    <tr>\n",
       "      <th>2</th>\n",
       "      <td>41</td>\n",
       "      <td>Private</td>\n",
       "      <td>264663</td>\n",
       "      <td>Some-college</td>\n",
       "      <td>10</td>\n",
       "      <td>Separated</td>\n",
       "      <td>Prof-specialty</td>\n",
       "      <td>Own-child</td>\n",
       "      <td>White</td>\n",
       "      <td>Female</td>\n",
       "      <td>0</td>\n",
       "      <td>3900</td>\n",
       "      <td>40</td>\n",
       "      <td>United-States</td>\n",
       "      <td>&lt;=50K</td>\n",
       "    </tr>\n",
       "    <tr>\n",
       "      <th>3</th>\n",
       "      <td>34</td>\n",
       "      <td>Private</td>\n",
       "      <td>216864</td>\n",
       "      <td>HS-grad</td>\n",
       "      <td>9</td>\n",
       "      <td>Divorced</td>\n",
       "      <td>Other-service</td>\n",
       "      <td>Unmarried</td>\n",
       "      <td>White</td>\n",
       "      <td>Female</td>\n",
       "      <td>0</td>\n",
       "      <td>3770</td>\n",
       "      <td>45</td>\n",
       "      <td>United-States</td>\n",
       "      <td>&lt;=50K</td>\n",
       "    </tr>\n",
       "    <tr>\n",
       "      <th>4</th>\n",
       "      <td>38</td>\n",
       "      <td>Private</td>\n",
       "      <td>150601</td>\n",
       "      <td>10th</td>\n",
       "      <td>6</td>\n",
       "      <td>Separated</td>\n",
       "      <td>Adm-clerical</td>\n",
       "      <td>Unmarried</td>\n",
       "      <td>White</td>\n",
       "      <td>Male</td>\n",
       "      <td>0</td>\n",
       "      <td>3770</td>\n",
       "      <td>40</td>\n",
       "      <td>United-States</td>\n",
       "      <td>&lt;=50K</td>\n",
       "    </tr>\n",
       "  </tbody>\n",
       "</table>\n",
       "</div>"
      ],
      "text/plain": [
       "   age workclass  fnlwgt     education  education.num maritalStatus  \\\n",
       "0   82   Private  132870       HS-grad              9       Widowed   \n",
       "1   54   Private  140359       7th-8th              4      Divorced   \n",
       "2   41   Private  264663  Some-college             10     Separated   \n",
       "3   34   Private  216864       HS-grad              9      Divorced   \n",
       "4   38   Private  150601          10th              6     Separated   \n",
       "\n",
       "          occupation   relationship   race     sex  capitalGain  capitalLoss  \\\n",
       "0    Exec-managerial  Not-in-family  White  Female            0         4356   \n",
       "1  Machine-op-inspct      Unmarried  White  Female            0         3900   \n",
       "2     Prof-specialty      Own-child  White  Female            0         3900   \n",
       "3      Other-service      Unmarried  White  Female            0         3770   \n",
       "4       Adm-clerical      Unmarried  White    Male            0         3770   \n",
       "\n",
       "   hoursPerWeek  nativeCountry income  \n",
       "0            18  United-States  <=50K  \n",
       "1            40  United-States  <=50K  \n",
       "2            40  United-States  <=50K  \n",
       "3            45  United-States  <=50K  \n",
       "4            40  United-States  <=50K  "
      ]
     },
     "execution_count": 58,
     "metadata": {},
     "output_type": "execute_result"
    }
   ],
   "source": [
    "data = pd.read_csv(\"income_threshold.csv\")\n",
    "data.head()"
   ]
  },
  {
   "cell_type": "markdown",
   "id": "0f3fe468-a556-4029-babd-5d57e5c974c8",
   "metadata": {},
   "source": [
    "## Melihat Jumlah Baris dan Kolom"
   ]
  },
  {
   "cell_type": "code",
   "execution_count": 59,
   "id": "cc6cd3e4-3dc7-417b-b04d-b56811780c1f",
   "metadata": {},
   "outputs": [
    {
     "data": {
      "text/plain": [
       "(30162, 15)"
      ]
     },
     "execution_count": 59,
     "metadata": {},
     "output_type": "execute_result"
    }
   ],
   "source": [
    "data.shape"
   ]
  },
  {
   "cell_type": "markdown",
   "id": "542b56cd-3784-4fb9-a8db-9f95ac1629d9",
   "metadata": {},
   "source": [
    "## Melihat Tipe Data tiap Atribut"
   ]
  },
  {
   "cell_type": "code",
   "execution_count": 60,
   "id": "ce80e448-46d0-438f-a6e4-7144759aad30",
   "metadata": {},
   "outputs": [
    {
     "data": {
      "text/plain": [
       "age               int64\n",
       "workclass        object\n",
       "fnlwgt            int64\n",
       "education        object\n",
       "education.num     int64\n",
       "maritalStatus    object\n",
       "occupation       object\n",
       "relationship     object\n",
       "race             object\n",
       "sex              object\n",
       "capitalGain       int64\n",
       "capitalLoss       int64\n",
       "hoursPerWeek      int64\n",
       "nativeCountry    object\n",
       "income           object\n",
       "dtype: object"
      ]
     },
     "execution_count": 60,
     "metadata": {},
     "output_type": "execute_result"
    }
   ],
   "source": [
    "data.dtypes"
   ]
  },
  {
   "cell_type": "markdown",
   "id": "52b17d49-06ef-435b-bc4d-5df74d2874bd",
   "metadata": {},
   "source": [
    "## Melihat Jumlah Record, Nama Attribute, Jumlah Attribute dengan Tipe Objek, Jumlah Attribute dengan Tipe Angka, Jumlah Attribute yang memiliki nilai NULL."
   ]
  },
  {
   "cell_type": "code",
   "execution_count": 61,
   "id": "a50bfc1b-ac29-4f94-9ac5-dfaab91f38da",
   "metadata": {},
   "outputs": [
    {
     "name": "stdout",
     "output_type": "stream",
     "text": [
      "<class 'pandas.core.frame.DataFrame'>\n",
      "RangeIndex: 30162 entries, 0 to 30161\n",
      "Data columns (total 15 columns):\n",
      " #   Column         Non-Null Count  Dtype \n",
      "---  ------         --------------  ----- \n",
      " 0   age            30162 non-null  int64 \n",
      " 1   workclass      30162 non-null  object\n",
      " 2   fnlwgt         30162 non-null  int64 \n",
      " 3   education      30162 non-null  object\n",
      " 4   education.num  30162 non-null  int64 \n",
      " 5   maritalStatus  30162 non-null  object\n",
      " 6   occupation     30162 non-null  object\n",
      " 7   relationship   30162 non-null  object\n",
      " 8   race           30162 non-null  object\n",
      " 9   sex            30162 non-null  object\n",
      " 10  capitalGain    30162 non-null  int64 \n",
      " 11  capitalLoss    30162 non-null  int64 \n",
      " 12  hoursPerWeek   30162 non-null  int64 \n",
      " 13  nativeCountry  30162 non-null  object\n",
      " 14  income         30162 non-null  object\n",
      "dtypes: int64(6), object(9)\n",
      "memory usage: 3.5+ MB\n"
     ]
    }
   ],
   "source": [
    "data.info()"
   ]
  },
  {
   "cell_type": "markdown",
   "id": "1366acd9-4464-475f-8327-542663dda0d4",
   "metadata": {},
   "source": [
    "## Mencari Nilai NULL"
   ]
  },
  {
   "cell_type": "code",
   "execution_count": 62,
   "id": "c1cf68b4-a2f7-4e9d-8fb0-c3a28cdbd730",
   "metadata": {},
   "outputs": [
    {
     "data": {
      "text/plain": [
       "0"
      ]
     },
     "execution_count": 62,
     "metadata": {},
     "output_type": "execute_result"
    }
   ],
   "source": [
    "data.isnull().any().sum()"
   ]
  },
  {
   "cell_type": "markdown",
   "id": "4212f605-6b67-43e0-a296-89c1f9128a8c",
   "metadata": {},
   "source": [
    "## Menampilkan Info diatas dengan Dictionary"
   ]
  },
  {
   "cell_type": "code",
   "execution_count": 63,
   "id": "9502fec8-9511-413c-80b0-fc838f024db4",
   "metadata": {},
   "outputs": [],
   "source": [
    "#Jumlah Record\n",
    "jml = len(data)"
   ]
  },
  {
   "cell_type": "code",
   "execution_count": 64,
   "id": "257e4235-6554-41a3-9b47-9261e0bb5016",
   "metadata": {},
   "outputs": [],
   "source": [
    "atr = list(data.columns)\n",
    "atr = \"\\n\".join(atr)"
   ]
  },
  {
   "cell_type": "code",
   "execution_count": 65,
   "id": "1255207b-ab27-498f-9478-aec3a109262b",
   "metadata": {},
   "outputs": [],
   "source": [
    "#jumlah atribut tipe object\n",
    "obj = len(data.dtypes[data.dtypes == 'object'])"
   ]
  },
  {
   "cell_type": "code",
   "execution_count": 66,
   "id": "88c81b63-cdc1-4207-9cc7-087a43b8fd2e",
   "metadata": {},
   "outputs": [],
   "source": [
    "#jumlah atribut tipe angka\n",
    "num = len(data.dtypes[data.dtypes == 'int64'])\n",
    "num1 = len(data.dtypes[data.dtypes == 'float64'])"
   ]
  },
  {
   "cell_type": "code",
   "execution_count": 67,
   "id": "d80992c3-90a6-4882-89a7-b492c37d4f8b",
   "metadata": {},
   "outputs": [],
   "source": [
    "#jumlah atribut nilai null\n",
    "nul = data.isna().any().sum()"
   ]
  },
  {
   "cell_type": "code",
   "execution_count": 68,
   "id": "0e31ef1a-f7ab-4348-b682-d0a1faf67939",
   "metadata": {},
   "outputs": [],
   "source": [
    "dictionary = {\n",
    "    \"Jumlah Record\" : [jml],\n",
    "    \"Atribut\":[atr],\n",
    "    \"Jumlah Tipe Object\" : [obj],\n",
    "    \"Jumlah Tipe Integer\" : [num],\n",
    "    \"Jumlah Tipe Float\" : [num1],\n",
    "    \"Jumlah Nilai NULL\" : [nul],\n",
    "\n",
    "}"
   ]
  },
  {
   "cell_type": "code",
   "execution_count": 69,
   "id": "19e197c9-7fc4-4738-89a7-729cae5b7bd1",
   "metadata": {},
   "outputs": [
    {
     "name": "stdout",
     "output_type": "stream",
     "text": [
      "+-----------------+---------------+----------------------+-----------------------+---------------------+---------------------+\n",
      "|   Jumlah Record | Atribut       |   Jumlah Tipe Object |   Jumlah Tipe Integer |   Jumlah Tipe Float |   Jumlah Nilai NULL |\n",
      "|-----------------+---------------+----------------------+-----------------------+---------------------+---------------------|\n",
      "|           30162 | age           |                    9 |                     6 |                   0 |                   0 |\n",
      "|                 | workclass     |                      |                       |                     |                     |\n",
      "|                 | fnlwgt        |                      |                       |                     |                     |\n",
      "|                 | education     |                      |                       |                     |                     |\n",
      "|                 | education.num |                      |                       |                     |                     |\n",
      "|                 | maritalStatus |                      |                       |                     |                     |\n",
      "|                 | occupation    |                      |                       |                     |                     |\n",
      "|                 | relationship  |                      |                       |                     |                     |\n",
      "|                 | race          |                      |                       |                     |                     |\n",
      "|                 | sex           |                      |                       |                     |                     |\n",
      "|                 | capitalGain   |                      |                       |                     |                     |\n",
      "|                 | capitalLoss   |                      |                       |                     |                     |\n",
      "|                 | hoursPerWeek  |                      |                       |                     |                     |\n",
      "|                 | nativeCountry |                      |                       |                     |                     |\n",
      "|                 | income        |                      |                       |                     |                     |\n",
      "+-----------------+---------------+----------------------+-----------------------+---------------------+---------------------+\n"
     ]
    }
   ],
   "source": [
    "tabel = pd.DataFrame(dictionary)\n",
    "print(tabulate(tabel, headers='keys', tablefmt='psql', showindex=False))"
   ]
  },
  {
   "cell_type": "markdown",
   "id": "ba90ccc0-e6c4-45f8-bf0f-331543fb920b",
   "metadata": {},
   "source": [
    "## Menghitung rata-rata(mean), Standar deviasi(std), nilai maksimal(max), nilai minimum(min), Q1(25%), Q2(50%), Q3(75%)"
   ]
  },
  {
   "cell_type": "code",
   "execution_count": 70,
   "id": "50997397-f683-4f91-8b90-5ced41187394",
   "metadata": {},
   "outputs": [
    {
     "data": {
      "text/html": [
       "<div>\n",
       "<style scoped>\n",
       "    .dataframe tbody tr th:only-of-type {\n",
       "        vertical-align: middle;\n",
       "    }\n",
       "\n",
       "    .dataframe tbody tr th {\n",
       "        vertical-align: top;\n",
       "    }\n",
       "\n",
       "    .dataframe thead th {\n",
       "        text-align: right;\n",
       "    }\n",
       "</style>\n",
       "<table border=\"1\" class=\"dataframe\">\n",
       "  <thead>\n",
       "    <tr style=\"text-align: right;\">\n",
       "      <th></th>\n",
       "      <th>age</th>\n",
       "      <th>fnlwgt</th>\n",
       "      <th>education.num</th>\n",
       "      <th>capitalGain</th>\n",
       "      <th>capitalLoss</th>\n",
       "      <th>hoursPerWeek</th>\n",
       "    </tr>\n",
       "  </thead>\n",
       "  <tbody>\n",
       "    <tr>\n",
       "      <th>count</th>\n",
       "      <td>30162.000000</td>\n",
       "      <td>3.016200e+04</td>\n",
       "      <td>30162.000000</td>\n",
       "      <td>30162.000000</td>\n",
       "      <td>30162.000000</td>\n",
       "      <td>30162.000000</td>\n",
       "    </tr>\n",
       "    <tr>\n",
       "      <th>mean</th>\n",
       "      <td>38.437902</td>\n",
       "      <td>1.897938e+05</td>\n",
       "      <td>10.121312</td>\n",
       "      <td>1092.007858</td>\n",
       "      <td>88.372489</td>\n",
       "      <td>40.931238</td>\n",
       "    </tr>\n",
       "    <tr>\n",
       "      <th>std</th>\n",
       "      <td>13.134665</td>\n",
       "      <td>1.056530e+05</td>\n",
       "      <td>2.549995</td>\n",
       "      <td>7406.346497</td>\n",
       "      <td>404.298370</td>\n",
       "      <td>11.979984</td>\n",
       "    </tr>\n",
       "    <tr>\n",
       "      <th>min</th>\n",
       "      <td>17.000000</td>\n",
       "      <td>1.376900e+04</td>\n",
       "      <td>1.000000</td>\n",
       "      <td>0.000000</td>\n",
       "      <td>0.000000</td>\n",
       "      <td>1.000000</td>\n",
       "    </tr>\n",
       "    <tr>\n",
       "      <th>25%</th>\n",
       "      <td>28.000000</td>\n",
       "      <td>1.176272e+05</td>\n",
       "      <td>9.000000</td>\n",
       "      <td>0.000000</td>\n",
       "      <td>0.000000</td>\n",
       "      <td>40.000000</td>\n",
       "    </tr>\n",
       "    <tr>\n",
       "      <th>50%</th>\n",
       "      <td>37.000000</td>\n",
       "      <td>1.784250e+05</td>\n",
       "      <td>10.000000</td>\n",
       "      <td>0.000000</td>\n",
       "      <td>0.000000</td>\n",
       "      <td>40.000000</td>\n",
       "    </tr>\n",
       "    <tr>\n",
       "      <th>75%</th>\n",
       "      <td>47.000000</td>\n",
       "      <td>2.376285e+05</td>\n",
       "      <td>13.000000</td>\n",
       "      <td>0.000000</td>\n",
       "      <td>0.000000</td>\n",
       "      <td>45.000000</td>\n",
       "    </tr>\n",
       "    <tr>\n",
       "      <th>max</th>\n",
       "      <td>90.000000</td>\n",
       "      <td>1.484705e+06</td>\n",
       "      <td>16.000000</td>\n",
       "      <td>99999.000000</td>\n",
       "      <td>4356.000000</td>\n",
       "      <td>99.000000</td>\n",
       "    </tr>\n",
       "  </tbody>\n",
       "</table>\n",
       "</div>"
      ],
      "text/plain": [
       "                age        fnlwgt  education.num   capitalGain   capitalLoss  \\\n",
       "count  30162.000000  3.016200e+04   30162.000000  30162.000000  30162.000000   \n",
       "mean      38.437902  1.897938e+05      10.121312   1092.007858     88.372489   \n",
       "std       13.134665  1.056530e+05       2.549995   7406.346497    404.298370   \n",
       "min       17.000000  1.376900e+04       1.000000      0.000000      0.000000   \n",
       "25%       28.000000  1.176272e+05       9.000000      0.000000      0.000000   \n",
       "50%       37.000000  1.784250e+05      10.000000      0.000000      0.000000   \n",
       "75%       47.000000  2.376285e+05      13.000000      0.000000      0.000000   \n",
       "max       90.000000  1.484705e+06      16.000000  99999.000000   4356.000000   \n",
       "\n",
       "       hoursPerWeek  \n",
       "count  30162.000000  \n",
       "mean      40.931238  \n",
       "std       11.979984  \n",
       "min        1.000000  \n",
       "25%       40.000000  \n",
       "50%       40.000000  \n",
       "75%       45.000000  \n",
       "max       99.000000  "
      ]
     },
     "execution_count": 70,
     "metadata": {},
     "output_type": "execute_result"
    }
   ],
   "source": [
    "data.describe()"
   ]
  },
  {
   "cell_type": "markdown",
   "id": "db41f8fa-835f-4cc5-a983-9153c4ba318d",
   "metadata": {},
   "source": [
    "## Menampilkan Korelasi"
   ]
  },
  {
   "cell_type": "code",
   "execution_count": 71,
   "id": "5664744c-f301-4932-a9bf-e0a660af4cd5",
   "metadata": {},
   "outputs": [
    {
     "data": {
      "text/html": [
       "<div>\n",
       "<style scoped>\n",
       "    .dataframe tbody tr th:only-of-type {\n",
       "        vertical-align: middle;\n",
       "    }\n",
       "\n",
       "    .dataframe tbody tr th {\n",
       "        vertical-align: top;\n",
       "    }\n",
       "\n",
       "    .dataframe thead th {\n",
       "        text-align: right;\n",
       "    }\n",
       "</style>\n",
       "<table border=\"1\" class=\"dataframe\">\n",
       "  <thead>\n",
       "    <tr style=\"text-align: right;\">\n",
       "      <th></th>\n",
       "      <th>age</th>\n",
       "      <th>fnlwgt</th>\n",
       "      <th>education.num</th>\n",
       "      <th>capitalGain</th>\n",
       "      <th>capitalLoss</th>\n",
       "      <th>hoursPerWeek</th>\n",
       "    </tr>\n",
       "  </thead>\n",
       "  <tbody>\n",
       "    <tr>\n",
       "      <th>age</th>\n",
       "      <td>1.000000</td>\n",
       "      <td>-0.076511</td>\n",
       "      <td>0.043526</td>\n",
       "      <td>0.080154</td>\n",
       "      <td>0.060165</td>\n",
       "      <td>0.101599</td>\n",
       "    </tr>\n",
       "    <tr>\n",
       "      <th>fnlwgt</th>\n",
       "      <td>-0.076511</td>\n",
       "      <td>1.000000</td>\n",
       "      <td>-0.044992</td>\n",
       "      <td>0.000422</td>\n",
       "      <td>-0.009750</td>\n",
       "      <td>-0.022886</td>\n",
       "    </tr>\n",
       "    <tr>\n",
       "      <th>education.num</th>\n",
       "      <td>0.043526</td>\n",
       "      <td>-0.044992</td>\n",
       "      <td>1.000000</td>\n",
       "      <td>0.124416</td>\n",
       "      <td>0.079646</td>\n",
       "      <td>0.152522</td>\n",
       "    </tr>\n",
       "    <tr>\n",
       "      <th>capitalGain</th>\n",
       "      <td>0.080154</td>\n",
       "      <td>0.000422</td>\n",
       "      <td>0.124416</td>\n",
       "      <td>1.000000</td>\n",
       "      <td>-0.032229</td>\n",
       "      <td>0.080432</td>\n",
       "    </tr>\n",
       "    <tr>\n",
       "      <th>capitalLoss</th>\n",
       "      <td>0.060165</td>\n",
       "      <td>-0.009750</td>\n",
       "      <td>0.079646</td>\n",
       "      <td>-0.032229</td>\n",
       "      <td>1.000000</td>\n",
       "      <td>0.052417</td>\n",
       "    </tr>\n",
       "    <tr>\n",
       "      <th>hoursPerWeek</th>\n",
       "      <td>0.101599</td>\n",
       "      <td>-0.022886</td>\n",
       "      <td>0.152522</td>\n",
       "      <td>0.080432</td>\n",
       "      <td>0.052417</td>\n",
       "      <td>1.000000</td>\n",
       "    </tr>\n",
       "  </tbody>\n",
       "</table>\n",
       "</div>"
      ],
      "text/plain": [
       "                    age    fnlwgt  education.num  capitalGain  capitalLoss  \\\n",
       "age            1.000000 -0.076511       0.043526     0.080154     0.060165   \n",
       "fnlwgt        -0.076511  1.000000      -0.044992     0.000422    -0.009750   \n",
       "education.num  0.043526 -0.044992       1.000000     0.124416     0.079646   \n",
       "capitalGain    0.080154  0.000422       0.124416     1.000000    -0.032229   \n",
       "capitalLoss    0.060165 -0.009750       0.079646    -0.032229     1.000000   \n",
       "hoursPerWeek   0.101599 -0.022886       0.152522     0.080432     0.052417   \n",
       "\n",
       "               hoursPerWeek  \n",
       "age                0.101599  \n",
       "fnlwgt            -0.022886  \n",
       "education.num      0.152522  \n",
       "capitalGain        0.080432  \n",
       "capitalLoss        0.052417  \n",
       "hoursPerWeek       1.000000  "
      ]
     },
     "execution_count": 71,
     "metadata": {},
     "output_type": "execute_result"
    }
   ],
   "source": [
    "data.corr()"
   ]
  },
  {
   "cell_type": "markdown",
   "id": "c1a0dc36-95b4-40f0-8c56-0fc57561bd85",
   "metadata": {},
   "source": [
    "## Mengubah tipe int menjadi float pada atribut tipe angka"
   ]
  },
  {
   "cell_type": "code",
   "execution_count": 72,
   "id": "ca40e44d-68a4-4b45-8e7d-7e8489e0b1f1",
   "metadata": {},
   "outputs": [
    {
     "data": {
      "text/plain": [
       "0     9\n",
       "1     4\n",
       "2    10\n",
       "3     9\n",
       "4     6\n",
       "Name: education.num, dtype: int64"
      ]
     },
     "execution_count": 72,
     "metadata": {},
     "output_type": "execute_result"
    }
   ],
   "source": [
    "data[\"education.num\"].head()"
   ]
  },
  {
   "cell_type": "code",
   "execution_count": 73,
   "id": "85759422-9039-4ed0-ad68-0a49d62b3e61",
   "metadata": {},
   "outputs": [],
   "source": [
    "data[\"education.num\"] = data[\"education.num\"]*0.001"
   ]
  },
  {
   "cell_type": "code",
   "execution_count": 74,
   "id": "734ea5b7-6bc3-4876-98be-3a242fb98082",
   "metadata": {},
   "outputs": [
    {
     "data": {
      "text/plain": [
       "0    0.009\n",
       "1    0.004\n",
       "2    0.010\n",
       "3    0.009\n",
       "4    0.006\n",
       "Name: education.num, dtype: float64"
      ]
     },
     "execution_count": 74,
     "metadata": {},
     "output_type": "execute_result"
    }
   ],
   "source": [
    "data[\"education.num\"].head()"
   ]
  },
  {
   "cell_type": "markdown",
   "id": "3c1f6776-70c1-45f7-ab41-6681ec961e06",
   "metadata": {},
   "source": [
    "## Menampilkan 10 Record Pertama dari atribut bertipe angka"
   ]
  },
  {
   "cell_type": "code",
   "execution_count": 75,
   "id": "03751dbc-0065-4d9f-9538-c91ef7cba935",
   "metadata": {},
   "outputs": [
    {
     "data": {
      "text/plain": [
       "age                int64\n",
       "workclass         object\n",
       "fnlwgt             int64\n",
       "education         object\n",
       "education.num    float64\n",
       "maritalStatus     object\n",
       "occupation        object\n",
       "relationship      object\n",
       "race              object\n",
       "sex               object\n",
       "capitalGain        int64\n",
       "capitalLoss        int64\n",
       "hoursPerWeek       int64\n",
       "nativeCountry     object\n",
       "income            object\n",
       "dtype: object"
      ]
     },
     "execution_count": 75,
     "metadata": {},
     "output_type": "execute_result"
    }
   ],
   "source": [
    "data.dtypes"
   ]
  },
  {
   "cell_type": "code",
   "execution_count": 76,
   "id": "59e307e4-db33-4d42-93b8-5a3135ceb9ae",
   "metadata": {},
   "outputs": [],
   "source": [
    "dataAngka = pd.DataFrame()\n",
    "for i in data.columns:\n",
    "    if(data[i].dtypes == \"int64\" or data[i].dtypes == \"float64\"):\n",
    "        dataAngka[i] = data[i]"
   ]
  },
  {
   "cell_type": "code",
   "execution_count": 77,
   "id": "a82efe3d-237b-45a4-8896-9aa564f9c3bb",
   "metadata": {},
   "outputs": [
    {
     "data": {
      "text/plain": [
       "age                int64\n",
       "fnlwgt             int64\n",
       "education.num    float64\n",
       "capitalGain        int64\n",
       "capitalLoss        int64\n",
       "hoursPerWeek       int64\n",
       "dtype: object"
      ]
     },
     "execution_count": 77,
     "metadata": {},
     "output_type": "execute_result"
    }
   ],
   "source": [
    "dataAngka.dtypes"
   ]
  },
  {
   "cell_type": "code",
   "execution_count": 78,
   "id": "5be05bea-3e29-4c8f-98f2-3f36c86acb8b",
   "metadata": {},
   "outputs": [
    {
     "data": {
      "text/html": [
       "<div>\n",
       "<style scoped>\n",
       "    .dataframe tbody tr th:only-of-type {\n",
       "        vertical-align: middle;\n",
       "    }\n",
       "\n",
       "    .dataframe tbody tr th {\n",
       "        vertical-align: top;\n",
       "    }\n",
       "\n",
       "    .dataframe thead th {\n",
       "        text-align: right;\n",
       "    }\n",
       "</style>\n",
       "<table border=\"1\" class=\"dataframe\">\n",
       "  <thead>\n",
       "    <tr style=\"text-align: right;\">\n",
       "      <th></th>\n",
       "      <th>age</th>\n",
       "      <th>fnlwgt</th>\n",
       "      <th>education.num</th>\n",
       "      <th>capitalGain</th>\n",
       "      <th>capitalLoss</th>\n",
       "      <th>hoursPerWeek</th>\n",
       "    </tr>\n",
       "  </thead>\n",
       "  <tbody>\n",
       "    <tr>\n",
       "      <th>0</th>\n",
       "      <td>82</td>\n",
       "      <td>132870</td>\n",
       "      <td>0.009</td>\n",
       "      <td>0</td>\n",
       "      <td>4356</td>\n",
       "      <td>18</td>\n",
       "    </tr>\n",
       "    <tr>\n",
       "      <th>1</th>\n",
       "      <td>54</td>\n",
       "      <td>140359</td>\n",
       "      <td>0.004</td>\n",
       "      <td>0</td>\n",
       "      <td>3900</td>\n",
       "      <td>40</td>\n",
       "    </tr>\n",
       "    <tr>\n",
       "      <th>2</th>\n",
       "      <td>41</td>\n",
       "      <td>264663</td>\n",
       "      <td>0.010</td>\n",
       "      <td>0</td>\n",
       "      <td>3900</td>\n",
       "      <td>40</td>\n",
       "    </tr>\n",
       "    <tr>\n",
       "      <th>3</th>\n",
       "      <td>34</td>\n",
       "      <td>216864</td>\n",
       "      <td>0.009</td>\n",
       "      <td>0</td>\n",
       "      <td>3770</td>\n",
       "      <td>45</td>\n",
       "    </tr>\n",
       "    <tr>\n",
       "      <th>4</th>\n",
       "      <td>38</td>\n",
       "      <td>150601</td>\n",
       "      <td>0.006</td>\n",
       "      <td>0</td>\n",
       "      <td>3770</td>\n",
       "      <td>40</td>\n",
       "    </tr>\n",
       "    <tr>\n",
       "      <th>5</th>\n",
       "      <td>74</td>\n",
       "      <td>88638</td>\n",
       "      <td>0.016</td>\n",
       "      <td>0</td>\n",
       "      <td>3683</td>\n",
       "      <td>20</td>\n",
       "    </tr>\n",
       "    <tr>\n",
       "      <th>6</th>\n",
       "      <td>68</td>\n",
       "      <td>422013</td>\n",
       "      <td>0.009</td>\n",
       "      <td>0</td>\n",
       "      <td>3683</td>\n",
       "      <td>40</td>\n",
       "    </tr>\n",
       "    <tr>\n",
       "      <th>7</th>\n",
       "      <td>45</td>\n",
       "      <td>172274</td>\n",
       "      <td>0.016</td>\n",
       "      <td>0</td>\n",
       "      <td>3004</td>\n",
       "      <td>35</td>\n",
       "    </tr>\n",
       "    <tr>\n",
       "      <th>8</th>\n",
       "      <td>38</td>\n",
       "      <td>164526</td>\n",
       "      <td>0.015</td>\n",
       "      <td>0</td>\n",
       "      <td>2824</td>\n",
       "      <td>45</td>\n",
       "    </tr>\n",
       "    <tr>\n",
       "      <th>9</th>\n",
       "      <td>52</td>\n",
       "      <td>129177</td>\n",
       "      <td>0.013</td>\n",
       "      <td>0</td>\n",
       "      <td>2824</td>\n",
       "      <td>20</td>\n",
       "    </tr>\n",
       "  </tbody>\n",
       "</table>\n",
       "</div>"
      ],
      "text/plain": [
       "   age  fnlwgt  education.num  capitalGain  capitalLoss  hoursPerWeek\n",
       "0   82  132870          0.009            0         4356            18\n",
       "1   54  140359          0.004            0         3900            40\n",
       "2   41  264663          0.010            0         3900            40\n",
       "3   34  216864          0.009            0         3770            45\n",
       "4   38  150601          0.006            0         3770            40\n",
       "5   74   88638          0.016            0         3683            20\n",
       "6   68  422013          0.009            0         3683            40\n",
       "7   45  172274          0.016            0         3004            35\n",
       "8   38  164526          0.015            0         2824            45\n",
       "9   52  129177          0.013            0         2824            20"
      ]
     },
     "execution_count": 78,
     "metadata": {},
     "output_type": "execute_result"
    }
   ],
   "source": [
    "dataAngka.head(10)"
   ]
  },
  {
   "cell_type": "markdown",
   "id": "388622cb-b156-46b6-a6f2-97dd13e5e2a4",
   "metadata": {},
   "source": [
    "## Menyimpan dataset dengan attribute bertipe angka ke dalam file CSV"
   ]
  },
  {
   "cell_type": "code",
   "execution_count": 79,
   "id": "d162a6b7-9ed4-4953-9f0e-59ffce00d3e3",
   "metadata": {},
   "outputs": [],
   "source": [
    "dataAngka.to_csv(\"DatasetTipe_Angka.csv\")"
   ]
  }
 ],
 "metadata": {
  "kernelspec": {
   "display_name": "Mitha_028",
   "language": "python",
   "name": "mitha_028"
  },
  "language_info": {
   "codemirror_mode": {
    "name": "ipython",
    "version": 3
   },
   "file_extension": ".py",
   "mimetype": "text/x-python",
   "name": "python",
   "nbconvert_exporter": "python",
   "pygments_lexer": "ipython3",
   "version": "3.10.7"
  }
 },
 "nbformat": 4,
 "nbformat_minor": 5
}
