{
 "cells": [
  {
   "cell_type": "markdown",
   "id": "346fee4d-d174-42c9-9290-da1873bf7d24",
   "metadata": {},
   "source": [
    "# **IMPORT LIBRARY**"
   ]
  },
  {
   "cell_type": "code",
   "execution_count": 1,
   "id": "3de8cd35-839d-47b0-a5c1-30da929b5799",
   "metadata": {},
   "outputs": [],
   "source": [
    "import pandas as pd\n",
    "import seaborn as sns\n",
    "import matplotlib.pyplot as plt\n",
    "import numpy as np\n",
    "from sklearn.metrics import accuracy_score, confusion_matrix"
   ]
  },
  {
   "cell_type": "markdown",
   "id": "8a0b1d27-c611-4a3d-9fab-8dcd82922cb1",
   "metadata": {},
   "source": [
    "# **READ DATA**"
   ]
  },
  {
   "cell_type": "code",
   "execution_count": 2,
   "id": "a60c2975-4335-4b52-b116-a38df6c0298a",
   "metadata": {},
   "outputs": [],
   "source": [
    "data = pd.read_csv(\"Clean_Loan_Predication.csv\")"
   ]
  },
  {
   "cell_type": "code",
   "execution_count": 3,
   "id": "d06c7cf3-9a22-4d98-8de9-a60151507f05",
   "metadata": {},
   "outputs": [
    {
     "data": {
      "text/html": [
       "<div>\n",
       "<style scoped>\n",
       "    .dataframe tbody tr th:only-of-type {\n",
       "        vertical-align: middle;\n",
       "    }\n",
       "\n",
       "    .dataframe tbody tr th {\n",
       "        vertical-align: top;\n",
       "    }\n",
       "\n",
       "    .dataframe thead th {\n",
       "        text-align: right;\n",
       "    }\n",
       "</style>\n",
       "<table border=\"1\" class=\"dataframe\">\n",
       "  <thead>\n",
       "    <tr style=\"text-align: right;\">\n",
       "      <th></th>\n",
       "      <th>Unnamed: 0</th>\n",
       "      <th>Loan_ID</th>\n",
       "      <th>Gender</th>\n",
       "      <th>Married</th>\n",
       "      <th>Dependents</th>\n",
       "      <th>Education</th>\n",
       "      <th>Self_Employed</th>\n",
       "      <th>ApplicantIncome</th>\n",
       "      <th>CoapplicantIncome</th>\n",
       "      <th>LoanAmount</th>\n",
       "      <th>Loan_Amount_Term</th>\n",
       "      <th>Credit_History</th>\n",
       "      <th>Property_Area</th>\n",
       "      <th>Loan_Status</th>\n",
       "      <th>Rural</th>\n",
       "      <th>Semiurban</th>\n",
       "      <th>Urban</th>\n",
       "    </tr>\n",
       "  </thead>\n",
       "  <tbody>\n",
       "    <tr>\n",
       "      <th>0</th>\n",
       "      <td>0</td>\n",
       "      <td>LP001002</td>\n",
       "      <td>Male</td>\n",
       "      <td>No</td>\n",
       "      <td>0</td>\n",
       "      <td>Graduate</td>\n",
       "      <td>No</td>\n",
       "      <td>5849</td>\n",
       "      <td>0.0</td>\n",
       "      <td>146</td>\n",
       "      <td>360.0</td>\n",
       "      <td>1.0</td>\n",
       "      <td>Urban</td>\n",
       "      <td>Y</td>\n",
       "      <td>0.0</td>\n",
       "      <td>0.0</td>\n",
       "      <td>1.0</td>\n",
       "    </tr>\n",
       "    <tr>\n",
       "      <th>1</th>\n",
       "      <td>1</td>\n",
       "      <td>LP001003</td>\n",
       "      <td>Male</td>\n",
       "      <td>Yes</td>\n",
       "      <td>1</td>\n",
       "      <td>Graduate</td>\n",
       "      <td>No</td>\n",
       "      <td>4583</td>\n",
       "      <td>1508.0</td>\n",
       "      <td>128</td>\n",
       "      <td>360.0</td>\n",
       "      <td>1.0</td>\n",
       "      <td>Rural</td>\n",
       "      <td>N</td>\n",
       "      <td>1.0</td>\n",
       "      <td>0.0</td>\n",
       "      <td>0.0</td>\n",
       "    </tr>\n",
       "    <tr>\n",
       "      <th>2</th>\n",
       "      <td>2</td>\n",
       "      <td>LP001005</td>\n",
       "      <td>Male</td>\n",
       "      <td>Yes</td>\n",
       "      <td>0</td>\n",
       "      <td>Graduate</td>\n",
       "      <td>Yes</td>\n",
       "      <td>3000</td>\n",
       "      <td>0.0</td>\n",
       "      <td>66</td>\n",
       "      <td>360.0</td>\n",
       "      <td>1.0</td>\n",
       "      <td>Urban</td>\n",
       "      <td>Y</td>\n",
       "      <td>0.0</td>\n",
       "      <td>0.0</td>\n",
       "      <td>1.0</td>\n",
       "    </tr>\n",
       "    <tr>\n",
       "      <th>3</th>\n",
       "      <td>3</td>\n",
       "      <td>LP001006</td>\n",
       "      <td>Male</td>\n",
       "      <td>Yes</td>\n",
       "      <td>0</td>\n",
       "      <td>Not Graduate</td>\n",
       "      <td>No</td>\n",
       "      <td>2583</td>\n",
       "      <td>2358.0</td>\n",
       "      <td>120</td>\n",
       "      <td>360.0</td>\n",
       "      <td>1.0</td>\n",
       "      <td>Urban</td>\n",
       "      <td>Y</td>\n",
       "      <td>0.0</td>\n",
       "      <td>0.0</td>\n",
       "      <td>1.0</td>\n",
       "    </tr>\n",
       "    <tr>\n",
       "      <th>4</th>\n",
       "      <td>4</td>\n",
       "      <td>LP001008</td>\n",
       "      <td>Male</td>\n",
       "      <td>No</td>\n",
       "      <td>0</td>\n",
       "      <td>Graduate</td>\n",
       "      <td>No</td>\n",
       "      <td>6000</td>\n",
       "      <td>0.0</td>\n",
       "      <td>141</td>\n",
       "      <td>360.0</td>\n",
       "      <td>1.0</td>\n",
       "      <td>Urban</td>\n",
       "      <td>Y</td>\n",
       "      <td>0.0</td>\n",
       "      <td>0.0</td>\n",
       "      <td>1.0</td>\n",
       "    </tr>\n",
       "  </tbody>\n",
       "</table>\n",
       "</div>"
      ],
      "text/plain": [
       "   Unnamed: 0   Loan_ID Gender Married Dependents     Education Self_Employed  \\\n",
       "0           0  LP001002   Male      No          0      Graduate            No   \n",
       "1           1  LP001003   Male     Yes          1      Graduate            No   \n",
       "2           2  LP001005   Male     Yes          0      Graduate           Yes   \n",
       "3           3  LP001006   Male     Yes          0  Not Graduate            No   \n",
       "4           4  LP001008   Male      No          0      Graduate            No   \n",
       "\n",
       "   ApplicantIncome  CoapplicantIncome  LoanAmount  Loan_Amount_Term  \\\n",
       "0             5849                0.0         146             360.0   \n",
       "1             4583             1508.0         128             360.0   \n",
       "2             3000                0.0          66             360.0   \n",
       "3             2583             2358.0         120             360.0   \n",
       "4             6000                0.0         141             360.0   \n",
       "\n",
       "   Credit_History Property_Area Loan_Status  Rural  Semiurban  Urban  \n",
       "0             1.0         Urban           Y    0.0        0.0    1.0  \n",
       "1             1.0         Rural           N    1.0        0.0    0.0  \n",
       "2             1.0         Urban           Y    0.0        0.0    1.0  \n",
       "3             1.0         Urban           Y    0.0        0.0    1.0  \n",
       "4             1.0         Urban           Y    0.0        0.0    1.0  "
      ]
     },
     "execution_count": 3,
     "metadata": {},
     "output_type": "execute_result"
    }
   ],
   "source": [
    "data.head()"
   ]
  },
  {
   "cell_type": "markdown",
   "id": "fa1348d5-ea79-4e3b-b39b-1e8f7875d8c9",
   "metadata": {},
   "source": [
    "# **DATA SPLIT**"
   ]
  },
  {
   "cell_type": "code",
   "execution_count": 4,
   "id": "a374ab77-252a-45a3-a9ac-e2e69e5f96f8",
   "metadata": {},
   "outputs": [],
   "source": [
    "from sklearn.model_selection import train_test_split"
   ]
  },
  {
   "cell_type": "code",
   "execution_count": 5,
   "id": "d00d7e38-31c9-41da-9127-45556149efff",
   "metadata": {},
   "outputs": [],
   "source": [
    "X = data[['ApplicantIncome','CoapplicantIncome','LoanAmount','Loan_Amount_Term','Credit_History']]\n",
    "y = data[['Loan_Status']]"
   ]
  },
  {
   "cell_type": "code",
   "execution_count": 6,
   "id": "ad821c66-2f38-4656-a8e1-88147a17c53a",
   "metadata": {},
   "outputs": [],
   "source": [
    "X_train, X_test, y_train, y_test = train_test_split(X,y,test_size=0.3)"
   ]
  },
  {
   "cell_type": "markdown",
   "id": "877aa434-a28a-4c18-acd1-f558a4246074",
   "metadata": {},
   "source": [
    "# **DATA NORMALISASI**"
   ]
  },
  {
   "cell_type": "code",
   "execution_count": 7,
   "id": "6608fe9e-2629-40c8-a2c9-99e27e3ccbad",
   "metadata": {},
   "outputs": [],
   "source": [
    "from sklearn.preprocessing import StandardScaler"
   ]
  },
  {
   "cell_type": "code",
   "execution_count": 8,
   "id": "2fc8761a-510e-4d20-9afc-965d7c223b43",
   "metadata": {},
   "outputs": [],
   "source": [
    "ss = StandardScaler()\n",
    "X_train_std = ss.fit_transform(X_train)\n",
    "X_test_std = ss.transform(X_test)"
   ]
  },
  {
   "cell_type": "markdown",
   "id": "a9892648-5674-4bd3-a7b8-73dbe947f553",
   "metadata": {},
   "source": [
    "# **ALGORITMA KNN**"
   ]
  },
  {
   "cell_type": "code",
   "execution_count": 9,
   "id": "0e38f6dd-766c-4a0c-a271-7db86674e759",
   "metadata": {},
   "outputs": [],
   "source": [
    "from sklearn.neighbors import KNeighborsClassifier"
   ]
  },
  {
   "cell_type": "code",
   "execution_count": 10,
   "id": "95127216-8818-48de-abc4-38983ec979c0",
   "metadata": {},
   "outputs": [
    {
     "name": "stdout",
     "output_type": "stream",
     "text": [
      "Akurasi algoritma KNN : 0.81\n"
     ]
    },
    {
     "name": "stderr",
     "output_type": "stream",
     "text": [
      "C:\\Users\\USER\\AppData\\Local\\Programs\\Python\\Python310\\lib\\site-packages\\sklearn\\neighbors\\_classification.py:207: DataConversionWarning: A column-vector y was passed when a 1d array was expected. Please change the shape of y to (n_samples,), for example using ravel().\n",
      "  return self._fit(X, y)\n"
     ]
    }
   ],
   "source": [
    "modelKnn = KNeighborsClassifier()\n",
    "modelKnn.fit(X_train_std,y_train)\n",
    "\n",
    "knn_pred = modelKnn.predict(X_test_std)\n",
    "akurasi_KNN = accuracy_score(y_test, knn_pred)\n",
    "print(\"Akurasi algoritma KNN :\", round(akurasi_KNN,2))"
   ]
  },
  {
   "cell_type": "markdown",
   "id": "772ca732-46c3-474d-a4e0-18b2510f4bd4",
   "metadata": {},
   "source": [
    "# **ALGORITMA NAIVE BAYES**"
   ]
  },
  {
   "cell_type": "code",
   "execution_count": 11,
   "id": "ac598975-aba1-4af0-afe1-fe6a4317b910",
   "metadata": {},
   "outputs": [],
   "source": [
    "from sklearn.naive_bayes import GaussianNB"
   ]
  },
  {
   "cell_type": "code",
   "execution_count": 12,
   "id": "0ac58c11-c618-4233-9a6d-ab8a51154255",
   "metadata": {},
   "outputs": [
    {
     "name": "stdout",
     "output_type": "stream",
     "text": [
      "Akurasi algoritma Naive Bayes : 0.82\n"
     ]
    },
    {
     "name": "stderr",
     "output_type": "stream",
     "text": [
      "C:\\Users\\USER\\AppData\\Local\\Programs\\Python\\Python310\\lib\\site-packages\\sklearn\\utils\\validation.py:1111: DataConversionWarning: A column-vector y was passed when a 1d array was expected. Please change the shape of y to (n_samples, ), for example using ravel().\n",
      "  y = column_or_1d(y, warn=True)\n"
     ]
    }
   ],
   "source": [
    "gaussnb  = GaussianNB()\n",
    "gaussnb.fit(X_train_std,y_train)\n",
    "\n",
    "gaussnb_pred = gaussnb.predict(X_test_std)\n",
    "akurasi_gnb = accuracy_score(y_test, gaussnb_pred)\n",
    "print(\"Akurasi algoritma Naive Bayes :\", round(akurasi_gnb,2))"
   ]
  },
  {
   "cell_type": "markdown",
   "id": "0ad7bfaf-18e7-4a65-962e-bf9a8c7f696b",
   "metadata": {},
   "source": [
    "# **ALGORITMA SVM**"
   ]
  },
  {
   "cell_type": "code",
   "execution_count": 13,
   "id": "b8694fcb-7624-423d-9a2d-0cb005060b47",
   "metadata": {},
   "outputs": [],
   "source": [
    "from sklearn.svm import SVC"
   ]
  },
  {
   "cell_type": "code",
   "execution_count": 29,
   "id": "088abbcf-a214-4f4c-b757-de9b27b8936d",
   "metadata": {},
   "outputs": [
    {
     "name": "stdout",
     "output_type": "stream",
     "text": [
      "Akurasi algoritma SVC : 0.84\n"
     ]
    },
    {
     "name": "stderr",
     "output_type": "stream",
     "text": [
      "C:\\Users\\USER\\AppData\\Local\\Programs\\Python\\Python310\\lib\\site-packages\\sklearn\\utils\\validation.py:1111: DataConversionWarning: A column-vector y was passed when a 1d array was expected. Please change the shape of y to (n_samples, ), for example using ravel().\n",
      "  y = column_or_1d(y, warn=True)\n"
     ]
    }
   ],
   "source": [
    "svm = SVC()\n",
    "svm.fit(X_train_std,y_train)\n",
    "\n",
    "svm_pred = svm.predict(X_test_std)\n",
    "akurasi_svm = accuracy_score(y_test, svm_pred)\n",
    "print(\"Akurasi algoritma SVC :\", round(akurasi_svm,2))"
   ]
  },
  {
   "cell_type": "markdown",
   "id": "94f20daa-305d-4e2b-a022-cf1c67d3b414",
   "metadata": {},
   "source": [
    "# **PERBANDINGAN AKURASI SETIAP ALGORITMA**"
   ]
  },
  {
   "cell_type": "code",
   "execution_count": 15,
   "id": "48349bcd-3a37-44bc-a26e-3b3b22b69dcd",
   "metadata": {},
   "outputs": [
    {
     "data": {
      "image/png": "[encoded data removed]",
      "text/plain": [
       "<Figure size 1000x1000 with 1 Axes>"
      ]
     },
     "metadata": {},
     "output_type": "display_data"
    }
   ],
   "source": [
    "algoritma = [\"KNN\",\"NaiveBayes\",\"SVM\"]\n",
    "akurasi = [akurasi_KNN,akurasi_gnb,akurasi_svm]\n",
    "\n",
    "plt.figure(figsize=(10,10))\n",
    "\n",
    "sns.barplot(x= algoritma,y = akurasi,palette='rocket')\n",
    "\n",
    "plt.title(\"Perbandingan Akurasi Algoritma\")\n",
    "plt.ylabel(\"Akurasi (%)\")\n",
    "plt.xlabel(\"Algoritma\")\n",
    "plt.show()"
   ]
  },
  {
   "cell_type": "markdown",
   "id": "64e73aab-d0e7-466f-b245-d7b18103d5d6",
   "metadata": {},
   "source": [
    "# **CONFUSION MATRIX**"
   ]
  },
  {
   "cell_type": "code",
   "execution_count": 16,
   "id": "36d524dd-edd2-4fd1-81bf-049eaaea3ae4",
   "metadata": {},
   "outputs": [],
   "source": [
    "from sklearn.metrics import confusion_matrix, ConfusionMatrixDisplay"
   ]
  },
  {
   "cell_type": "code",
   "execution_count": 17,
   "id": "69e116c9-a584-432c-8ba4-98a04c85f339",
   "metadata": {},
   "outputs": [
    {
     "name": "stderr",
     "output_type": "stream",
     "text": [
      "C:\\Users\\USER\\AppData\\Local\\Programs\\Python\\Python310\\lib\\site-packages\\sklearn\\neighbors\\_classification.py:207: DataConversionWarning: A column-vector y was passed when a 1d array was expected. Please change the shape of y to (n_samples,), for example using ravel().\n",
      "  return self._fit(X, y)\n"
     ]
    },
    {
     "name": "stdout",
     "output_type": "stream",
     "text": [
      "Confusion matrix : \n",
      "\n",
      " [[ 12  47]\n",
      " [ 19 107]]\n"
     ]
    },
    {
     "data": {
      "image/png": "[encoded data removed]",
      "text/plain": [
       "<Figure size 640x480 with 2 Axes>"
      ]
     },
     "metadata": {},
     "output_type": "display_data"
    }
   ],
   "source": [
    "knn = KNeighborsClassifier()\n",
    "knn.fit(X_train,y_train)\n",
    "\n",
    "knn_pred = knn.predict(X_test)\n",
    "\n",
    "cm = confusion_matrix(y_test, knn_pred)\n",
    "print('Confusion matrix : \\n\\n', cm)\n",
    "\n",
    "displays = ConfusionMatrixDisplay(confusion_matrix=cm,display_labels=knn.classes_)\n",
    "displays.plot()\n",
    "\n",
    "plt.title(\"Confusion Matrix KNN\")\n",
    "plt.grid(False)"
   ]
  },
  {
   "cell_type": "markdown",
   "id": "32c5b2ea-93e4-42cc-a95a-e947648a7b17",
   "metadata": {},
   "source": [
    "# **HYPERPARAMETER TUNING (KNN)**"
   ]
  },
  {
   "cell_type": "code",
   "execution_count": 18,
   "id": "70f6dd77-54ec-471e-ade4-b58350705fb3",
   "metadata": {},
   "outputs": [],
   "source": [
    "from sklearn.model_selection import GridSearchCV"
   ]
  },
  {
   "cell_type": "code",
   "execution_count": 26,
   "id": "79cd6a2d-6b00-4ebc-aa7d-cda5eee397e4",
   "metadata": {},
   "outputs": [
    {
     "name": "stderr",
     "output_type": "stream",
     "text": [
      "C:\\Users\\USER\\AppData\\Local\\Programs\\Python\\Python310\\lib\\site-packages\\sklearn\\model_selection\\_validation.py:378: FitFailedWarning: \n",
      "3 fits failed out of a total of 15.\n",
      "The score on these train-test partitions for these parameters will be set to nan.\n",
      "If these failures are not expected, you can try to debug them by setting error_score='raise'.\n",
      "\n",
      "Below are more details about the failures:\n",
      "--------------------------------------------------------------------------------\n",
      "3 fits failed with the following error:\n",
      "Traceback (most recent call last):\n",
      "  File \"C:\\Users\\USER\\AppData\\Local\\Programs\\Python\\Python310\\lib\\site-packages\\sklearn\\model_selection\\_validation.py\", line 686, in _fit_and_score\n",
      "    estimator.fit(X_train, y_train, **fit_params)\n",
      "  File \"C:\\Users\\USER\\AppData\\Local\\Programs\\Python\\Python310\\lib\\site-packages\\sklearn\\neighbors\\_classification.py\", line 207, in fit\n",
      "    return self._fit(X, y)\n",
      "  File \"C:\\Users\\USER\\AppData\\Local\\Programs\\Python\\Python310\\lib\\site-packages\\sklearn\\neighbors\\_base.py\", line 603, in _fit\n",
      "    raise ValueError(\"Expected n_neighbors > 0. Got %d\" % self.n_neighbors)\n",
      "ValueError: Expected n_neighbors > 0. Got 0\n",
      "\n",
      "  warnings.warn(some_fits_failed_message, FitFailedWarning)\n",
      "C:\\Users\\USER\\AppData\\Local\\Programs\\Python\\Python310\\lib\\site-packages\\sklearn\\model_selection\\_search.py:953: UserWarning: One or more of the test scores are non-finite: [       nan 0.58275058 0.53379953 0.59440559 0.58275058]\n",
      "  warnings.warn(\n",
      "C:\\Users\\USER\\AppData\\Local\\Programs\\Python\\Python310\\lib\\site-packages\\sklearn\\neighbors\\_classification.py:207: DataConversionWarning: A column-vector y was passed when a 1d array was expected. Please change the shape of y to (n_samples,), for example using ravel().\n",
      "  return self._fit(X, y)\n"
     ]
    }
   ],
   "source": [
    "modelKNN = KNeighborsClassifier()\n",
    "\n",
    "param_grid = { \"n_neighbors\" :[i for i in range(0,5)]}\n",
    "\n",
    "gsv = GridSearchCV(estimator=modelKNN, param_grid=param_grid, scoring='accuracy', cv=3, n_jobs=-1)\n",
    "\n",
    "gs = gsv.fit(X_train, y_train)"
   ]
  },
  {
   "cell_type": "code",
   "execution_count": 27,
   "id": "92f298cb-7f52-47a4-bda9-66da1e99fd3a",
   "metadata": {},
   "outputs": [
    {
     "name": "stdout",
     "output_type": "stream",
     "text": [
      "{'n_neighbors': 3}\n"
     ]
    }
   ],
   "source": [
    "#parameter terbaik\n",
    "print(gs.best_params_)"
   ]
  },
  {
   "cell_type": "code",
   "execution_count": 28,
   "id": "2c83a1f0-055d-42e3-984d-5a9593b80678",
   "metadata": {},
   "outputs": [
    {
     "name": "stdout",
     "output_type": "stream",
     "text": [
      "Akurasi Training Set :  79.5 %\n"
     ]
    }
   ],
   "source": [
    "print(\"Akurasi Training Set : \",round(gs.score(X_train,y_train)*100,1),\"%\")"
   ]
  }
 ],
 "metadata": {
  "kernelspec": {
   "display_name": "Python 3 (ipykernel)",
   "language": "python",
   "name": "python3"
  },
  "language_info": {
   "codemirror_mode": {
    "name": "ipython",
    "version": 3
   },
   "file_extension": ".py",
   "mimetype": "text/x-python",
   "name": "python",
   "nbconvert_exporter": "python",
   "pygments_lexer": "ipython3",
   "version": "3.10.7"
  }
 },
 "nbformat": 4,
 "nbformat_minor": 5
}
